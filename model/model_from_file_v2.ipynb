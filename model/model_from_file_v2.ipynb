{
 "cells": [
  {
   "cell_type": "code",
   "execution_count": 1,
   "id": "9cb15315-ef48-4f60-8e3d-d7c83dca0633",
   "metadata": {},
   "outputs": [
    {
     "name": "stderr",
     "output_type": "stream",
     "text": [
      "2023-12-09 17:42:14.381490: I tensorflow/tsl/cuda/cudart_stub.cc:28] Could not find cuda drivers on your machine, GPU will not be used.\n",
      "2023-12-09 17:42:14.437272: E tensorflow/compiler/xla/stream_executor/cuda/cuda_dnn.cc:9342] Unable to register cuDNN factory: Attempting to register factory for plugin cuDNN when one has already been registered\n",
      "2023-12-09 17:42:14.437311: E tensorflow/compiler/xla/stream_executor/cuda/cuda_fft.cc:609] Unable to register cuFFT factory: Attempting to register factory for plugin cuFFT when one has already been registered\n",
      "2023-12-09 17:42:14.437345: E tensorflow/compiler/xla/stream_executor/cuda/cuda_blas.cc:1518] Unable to register cuBLAS factory: Attempting to register factory for plugin cuBLAS when one has already been registered\n",
      "2023-12-09 17:42:14.446790: I tensorflow/tsl/cuda/cudart_stub.cc:28] Could not find cuda drivers on your machine, GPU will not be used.\n",
      "2023-12-09 17:42:14.447425: I tensorflow/core/platform/cpu_feature_guard.cc:182] This TensorFlow binary is optimized to use available CPU instructions in performance-critical operations.\n",
      "To enable the following instructions: AVX2, in other operations, rebuild TensorFlow with the appropriate compiler flags.\n",
      "2023-12-09 17:42:15.753935: W tensorflow/compiler/tf2tensorrt/utils/py_utils.cc:38] TF-TRT Warning: Could not find TensorRT\n"
     ]
    }
   ],
   "source": [
    "import numpy as np\n",
    "from tensorflow.keras.preprocessing.sequence import pad_sequences\n",
    "from keras.models import load_model\n",
    "import pickle\n",
    "\n",
    "model_file__name = 'data/password_model_v2.keras'\n",
    "tokenizer_file_name = 'data/tokenizer_v2.pickle'\n",
    "encoder_file_name = 'data/label_encoder_v2.pickle'\n",
    "model = load_model(model_file__name)\n",
    "# loading\n",
    "with open(tokenizer_file_name, 'rb') as handle:\n",
    "    tokenizer = pickle.load(handle)\n",
    "    \n",
    "with open(encoder_file_name, 'rb') as handle:\n",
    "    label_encoder = pickle.load(handle)\n",
    "    \n",
    "def predict_password_strength1(new_password):\n",
    "    new_sequence = tokenizer.texts_to_sequences([new_password])\n",
    "    print(new_sequence)\n",
    "    new_padded_sequence = pad_sequences(new_sequence,220)\n",
    "    prediction = model.predict(new_padded_sequence, verbose=None)\n",
    "    predicted_class_index = np.argmax(prediction)\n",
    "    predicted_strength = label_encoder.classes_[predicted_class_index]\n",
    "    print(f'Password: \"{new_password}\", class: [{predicted_class_index}] ,  strenght: {predicted_strength}' )\n",
    "    "
   ]
  },
  {
   "cell_type": "code",
   "execution_count": 2,
   "id": "d7c36606-654e-45fe-bcdf-bdd3d8e1fd5a",
   "metadata": {},
   "outputs": [
    {
     "name": "stdout",
     "output_type": "stream",
     "text": [
      "[[49, 58, 42, 53]]\n",
      "Password: \"?>!:)\", class: [4] ,  strenght: weak\n",
      "[[9, 2, 7, 8, 4, 10, 16]]\n",
      "Password: \"kino123\", class: [4] ,  strenght: weak\n",
      "[[4, 10, 22, 49, 58, 80, 65, 17]]\n",
      "Password: \"124?>:'{d\", class: [1] ,  strenght: medium_weak\n",
      "[[5, 20, 3, 20, 16, 16, 24, 22, 8]]\n",
      "Password: \"egsg3384o\", class: [0] ,  strenght: medium_strong\n",
      "[[36, 34, 33, 1, 3, 33, 16, 16, 16, 11, 10, 16]]\n",
      "Password: \"qwfasf333r23\", class: [2] ,  strenght: strong\n",
      "[[5, 33, 17, 3, 33, 3, 11, 20, 24, 24, 24, 34, 33, 34, 5, 34]]\n",
      "Password: \"efdsfsrg888WFWEW\", class: [2] ,  strenght: strong\n"
     ]
    }
   ],
   "source": [
    "passo = [\"?>!:)\",\"kino123\",\"124?>:'{d\",\"egsg3384o\",\"qwfasf333r23\",\"efdsfsrg888WFWEW\"]\n",
    "for p in passo:\n",
    "    predict_password_strength1(p)"
   ]
  },
  {
   "cell_type": "code",
   "execution_count": 10,
   "id": "21825f41-f13e-4c82-a44d-8d72ca43ea3f",
   "metadata": {},
   "outputs": [
    {
     "name": "stdout",
     "output_type": "stream",
     "text": [
      "[[27, 27, 27, 27, 27, 27, 27, 27, 27, 27, 27, 27, 27, 27, 27, 27, 27, 27, 27]]\n",
      "Password: \"jjjjjjjjjjjjjjjjjjj\", class: [4] ,  strenght: weak\n"
     ]
    }
   ],
   "source": [
    "elo = 'jjjjjjjjjjjjjjjjjjj'\n",
    "predict_password_strength1(elo)"
   ]
  },
  {
   "cell_type": "code",
   "execution_count": null,
   "id": "838794b2-d909-4237-b4f1-37dc6f030f4c",
   "metadata": {},
   "outputs": [],
   "source": []
  }
 ],
 "metadata": {
  "kernelspec": {
   "display_name": "ml",
   "language": "python",
   "name": "ml"
  },
  "language_info": {
   "codemirror_mode": {
    "name": "ipython",
    "version": 3
   },
   "file_extension": ".py",
   "mimetype": "text/x-python",
   "name": "python",
   "nbconvert_exporter": "python",
   "pygments_lexer": "ipython3",
   "version": "3.10.12"
  }
 },
 "nbformat": 4,
 "nbformat_minor": 5
}
